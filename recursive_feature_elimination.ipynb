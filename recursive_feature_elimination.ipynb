{
 "cells": [
  {
   "cell_type": "code",
   "execution_count": 1,
   "id": "51f09bdb",
   "metadata": {},
   "outputs": [
    {
     "name": "stdout",
     "output_type": "stream",
     "text": [
      "Feature Importances:\n",
      "worst area: 0.1539\n",
      "worst concave points: 0.1447\n",
      "mean concave points: 0.1062\n",
      "worst radius: 0.0780\n",
      "mean concavity: 0.0680\n",
      "worst perimeter: 0.0671\n",
      "mean perimeter: 0.0533\n",
      "mean radius: 0.0487\n",
      "mean area: 0.0476\n",
      "worst concavity: 0.0318\n",
      "area error: 0.0224\n",
      "worst texture: 0.0217\n",
      "worst compactness: 0.0203\n",
      "radius error: 0.0201\n",
      "mean compactness: 0.0139\n",
      "mean texture: 0.0136\n",
      "perimeter error: 0.0113\n",
      "worst smoothness: 0.0106\n",
      "worst symmetry: 0.0101\n",
      "concavity error: 0.0094\n",
      "mean smoothness: 0.0073\n",
      "fractal dimension error: 0.0053\n",
      "compactness error: 0.0053\n",
      "worst fractal dimension: 0.0052\n",
      "texture error: 0.0047\n",
      "smoothness error: 0.0043\n",
      "symmetry error: 0.0040\n",
      "mean fractal dimension: 0.0039\n",
      "mean symmetry: 0.0038\n",
      "concave points error: 0.0035\n"
     ]
    }
   ],
   "source": [
    "from sklearn.datasets import load_breast_cancer\n",
    "from sklearn.model_selection import train_test_split\n",
    "from sklearn.ensemble import RandomForestClassifier\n",
    "import numpy as np\n",
    "\n",
    "# Load the Breast Cancer dataset\n",
    "data = load_breast_cancer()\n",
    "X = data.data\n",
    "y = data.target\n",
    "\n",
    "# Split the dataset into training and testing sets\n",
    "X_train, X_test, y_train, y_test = train_test_split(X, y, test_size=0.2, random_state=42)\n",
    "\n",
    "# Create a RandomForestClassifier\n",
    "classifier = RandomForestClassifier(random_state=42)\n",
    "\n",
    "# Train the classifier\n",
    "classifier.fit(X_train, y_train)\n",
    "\n",
    "# Get feature importances\n",
    "feature_importances = classifier.feature_importances_\n",
    "\n",
    "# Get the indices of the most important features\n",
    "important_indices = np.argsort(feature_importances)[::-1]\n",
    "\n",
    "# Get the names of the features\n",
    "feature_names = data.feature_names\n",
    "\n",
    "# Display the most important features and their importance scores\n",
    "print(\"Feature Importances:\")\n",
    "for idx in important_indices:\n",
    "    print(f\"{feature_names[idx]}: {feature_importances[idx]:.4f}\")\n"
   ]
  },
  {
   "cell_type": "code",
   "execution_count": 2,
   "id": "2ee40e0a",
   "metadata": {},
   "outputs": [
    {
     "name": "stdout",
     "output_type": "stream",
     "text": [
      "Selected Features:\n",
      "mean texture\n",
      "mean perimeter\n",
      "mean concavity\n",
      "mean concave points\n",
      "worst radius\n",
      "worst texture\n",
      "worst perimeter\n",
      "worst area\n",
      "worst concavity\n",
      "worst concave points\n"
     ]
    }
   ],
   "source": [
    "from sklearn.datasets import load_breast_cancer\n",
    "from sklearn.model_selection import train_test_split\n",
    "from sklearn.ensemble import RandomForestClassifier\n",
    "from sklearn.feature_selection import RFE\n",
    "\n",
    "# Load the Breast Cancer dataset\n",
    "data = load_breast_cancer()\n",
    "X = data.data\n",
    "y = data.target\n",
    "\n",
    "# Split the dataset into training and testing sets\n",
    "X_train, X_test, y_train, y_test = train_test_split(X, y, test_size=0.2, random_state=42)\n",
    "\n",
    "# Create a RandomForestClassifier\n",
    "classifier = RandomForestClassifier(random_state=42)\n",
    "\n",
    "# Initialize RFE with the classifier and desired number of features\n",
    "num_features_to_select = 10  # You can adjust this value\n",
    "rfe = RFE(estimator=classifier, n_features_to_select=num_features_to_select)\n",
    "\n",
    "# Fit RFE to the training data\n",
    "rfe.fit(X_train, y_train)\n",
    "\n",
    "# Get the ranking of features\n",
    "feature_ranking = rfe.ranking_\n",
    "\n",
    "# Get the selected features\n",
    "selected_features = data.feature_names[rfe.support_]\n",
    "\n",
    "print(\"Selected Features:\")\n",
    "for feature in selected_features:\n",
    "    print(feature)\n"
   ]
  },
  {
   "cell_type": "code",
   "execution_count": null,
   "id": "9afb56f7",
   "metadata": {},
   "outputs": [],
   "source": []
  }
 ],
 "metadata": {
  "kernelspec": {
   "display_name": "Python 3 (ipykernel)",
   "language": "python",
   "name": "python3"
  },
  "language_info": {
   "codemirror_mode": {
    "name": "ipython",
    "version": 3
   },
   "file_extension": ".py",
   "mimetype": "text/x-python",
   "name": "python",
   "nbconvert_exporter": "python",
   "pygments_lexer": "ipython3",
   "version": "3.9.13"
  }
 },
 "nbformat": 4,
 "nbformat_minor": 5
}
